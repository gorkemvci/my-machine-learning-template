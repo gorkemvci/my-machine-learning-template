{
  "cells": [
    {
      "cell_type": "markdown",
      "source": [
        "# Intro\n",
        "We add the libraries to be used.\n",
        "We are reading the missing_data from csv file with the help of pandas."
      ],
      "metadata": {
        "id": "3Pyg3PXiS7r0"
      }
    },
    {
      "cell_type": "code",
      "source": [
        "#import libs\n",
        "import pandas as pd\n",
        "import numpy as np\n",
        "import matplotlib.pyplot as plt\n",
        "from sklearn import preprocessing\n",
        "#upload data\n",
        "data = pd.read_csv(\"missing_data.csv\")\n",
        "print(data)"
      ],
      "metadata": {
        "id": "48HOCWTwbuK4"
      },
      "execution_count": null,
      "outputs": []
    },
    {
      "cell_type": "markdown",
      "source": [
        "#Missing Value\n",
        "With the help of SimpleImputer(), we have completed the missing data by using the average of the data in the column.\n"
      ],
      "metadata": {
        "id": "5IiEp9HUUy_F"
      }
    },
    {
      "cell_type": "code",
      "source": [
        "#missing_value \n",
        "from sklearn.impute import SimpleImputer \n",
        "missing_data= pd.read_csv(\"missing_data.csv\") \n",
        "print(missing_data) \n",
        "imputer = SimpleImputer(missing_values = np.nan , strategy = \"mean\") \n",
        "age = missing_data.iloc[:,-2:-1].values \n",
        "print(age) \n",
        "imputer = imputer.fit(age) \n",
        "age = imputer.transform(age) \n",
        "print(age)"
      ],
      "metadata": {
        "id": "99TTW7IpcB9M"
      },
      "execution_count": null,
      "outputs": []
    },
    {
      "cell_type": "markdown",
      "source": [
        "# Combining edited data into a dataset\n",
        "We create a new dataset by combining the it that we filled in the missing data with other columns."
      ],
      "metadata": {
        "id": "Z0tdmgN5Xy7K"
      }
    },
    {
      "cell_type": "code",
      "source": [
        "without_age_gender= pd.DataFrame(data=missing_data.iloc[:,:-2] , index = range(17))\n",
        "age =pd.DataFrame(data=age, columns=[\"age\"], index = range(17))\n",
        "gender = missing_data.iloc[:,-1:]\n",
        "new_data= pd.concat([without_age_gender,age,gender], axis= 1)\n",
        "print(new_data)"
      ],
      "metadata": {
        "id": "EdGqe3rpVqc-"
      },
      "execution_count": null,
      "outputs": []
    }
  ],
  "metadata": {
    "colab": {
      "provenance": []
    },
    "kernelspec": {
      "display_name": "Python 3",
      "name": "python3"
    }
  },
  "nbformat": 4,
  "nbformat_minor": 0
}