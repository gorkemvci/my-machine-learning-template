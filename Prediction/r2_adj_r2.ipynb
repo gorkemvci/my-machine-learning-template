{
  "nbformat": 4,
  "nbformat_minor": 0,
  "metadata": {
    "colab": {
      "provenance": []
    },
    "kernelspec": {
      "name": "python3",
      "display_name": "Python 3"
    },
    "language_info": {
      "name": "python"
    }
  },
  "cells": [
    {
      "cell_type": "markdown",
      "source": [
        "# R-SQUARE\n",
        "*   Sum Of Square Error = (Yi-y^i)^2\n",
        "*   Average Sum of Differences = Sum(yi-y avg)^2\n",
        "*   R2 = 1 - (SS_res / SS_tot)\n",
        "\n",
        "\n"
      ],
      "metadata": {
        "id": "F5ZSo6oRkO8u"
      }
    },
    {
      "cell_type": "markdown",
      "source": [
        "# Adjusted R-SQUARE\n",
        "*   adj_R2 = 1 - [(1 - R2) * (n - 1) / (n - p - 1)]\n",
        "\n"
      ],
      "metadata": {
        "id": "FEojJRX7lONu"
      }
    },
    {
      "cell_type": "markdown",
      "source": [
        "# Intro\n",
        "We add the libraries to be used.\n",
        "We are reading the data from csv file with the help of pandas.\n"
      ],
      "metadata": {
        "id": "Rb_j3bpxmdIZ"
      }
    },
    {
      "cell_type": "code",
      "source": [
        "import numpy\n",
        "import matplotlib.pyplot as plt\n",
        "import pandas\n",
        "data= pandas.read_csv(\"data.csv\")\n",
        "#print(data)\n",
        "x =data.iloc[:,-2:-1]\n",
        "y =data.iloc[:,-1:]\n",
        "#print(x)\n",
        "#print(y)"
      ],
      "metadata": {
        "id": "l1jcGGnCmZyC"
      },
      "execution_count": 1,
      "outputs": []
    },
    {
      "cell_type": "markdown",
      "source": [
        "# Linear Regression"
      ],
      "metadata": {
        "id": "hzeHqSQOmhtR"
      }
    },
    {
      "cell_type": "code",
      "source": [
        "from sklearn.linear_model import LinearRegression\n",
        "lin_reg = LinearRegression()\n",
        "lin_reg.fit(x,y)\n",
        "y_pred=lin_reg.predict(X)\n",
        "X=x.values\n",
        "Y=y.values\n",
        "plt.scatter(X,Y , color =\"red\")\n",
        "plt.plot(x, y_pred, color = \"blue\")"
      ],
      "metadata": {
        "id": "Icy-ppV-8cYs",
        "colab": {
          "base_uri": "https://localhost:8080/",
          "height": 502
        },
        "outputId": "3ef8e6ea-9ad8-4f20-967c-fc371ad010b2"
      },
      "execution_count": 4,
      "outputs": [
        {
          "output_type": "stream",
          "name": "stderr",
          "text": [
            "/usr/local/lib/python3.9/dist-packages/sklearn/base.py:439: UserWarning: X does not have valid feature names, but LinearRegression was fitted with feature names\n",
            "  warnings.warn(\n"
          ]
        },
        {
          "output_type": "execute_result",
          "data": {
            "text/plain": [
              "[<matplotlib.lines.Line2D at 0x7f7cad40caf0>]"
            ]
          },
          "metadata": {},
          "execution_count": 4
        },
        {
          "output_type": "display_data",
          "data": {
            "text/plain": [
              "<Figure size 640x480 with 1 Axes>"
            ],
            "image/png": "[encoded data removed]"
          },
          "metadata": {}
        }
      ]
    },
    {
      "cell_type": "markdown",
      "source": [
        "# Metrics used to measure the accuracy of regression models\n",
        "The closer the values are to 1, the higher our accuracy rate will be."
      ],
      "metadata": {
        "id": "jiNqoGgslePU"
      }
    },
    {
      "cell_type": "code",
      "source": [
        "from sklearn.metrics import r2_score\n",
        "# Calculate R2\n",
        "r2 = r2_score(y, y_pred)\n",
        "# Calculate adjusted R2\n",
        "n = len(y)\n",
        "p = X.shape[1]\n",
        "adj_r2 = 1 - ((1 - r2) * (n - 1) / (n - p - 1))\n",
        "print(\"R2: \", r2)\n",
        "print(\"Adjusted R2: \", adj_r2)\n"
      ],
      "metadata": {
        "id": "x99eo2HQExKW",
        "colab": {
          "base_uri": "https://localhost:8080/"
        },
        "outputId": "cb4e194e-b4b0-4aa1-a0b7-0ef2d2df1fc0"
      },
      "execution_count": 5,
      "outputs": [
        {
          "output_type": "stream",
          "name": "stdout",
          "text": [
            "R2:  0.956120896425434\n",
            "Adjusted R2:  0.9545537855834851\n"
          ]
        }
      ]
    }
  ]
}