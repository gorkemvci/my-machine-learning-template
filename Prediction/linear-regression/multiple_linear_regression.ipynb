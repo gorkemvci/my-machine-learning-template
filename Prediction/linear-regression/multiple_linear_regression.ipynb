{
  "cells": [
    {
      "cell_type": "markdown",
      "metadata": {
        "id": "khkmN_182zx0"
      },
      "source": [
        "# Multiple Linear Regression\n",
        "---\n",
        "**y= B0 + Bixi + Bi1xi1 ....... + e**\n",
        "\n",
        "---\n",
        "Multiple linear regression is a statistical model used to examine the relationship of a dependent variable with more than one independent variable."
      ]
    },
    {
      "cell_type": "code",
      "execution_count": null,
      "metadata": {
        "id": "hV8iuHlapScB",
        "vscode": {
          "languageId": "python"
        }
      },
      "outputs": [],
      "source": [
        "import numpy as np\n",
        "import matplotlib.pyplot as plt\n",
        "import pandas as pd\n",
        "from sklearn import preprocessing\n",
        "data= pd.read_csv(\"multi_data.csv\")\n",
        "#print(data)\n",
        "lbl_cdr = preprocessing.LabelEncoder()\n",
        "independent_v =data.iloc[:,:-1] \n",
        "dependent_v =data.iloc[:,-1:]\n",
        "dependent_v_encoder = lbl_cdr.fit_transform(dependent_v)\n",
        "dependent_v_encoder = pd.DataFrame(data= dependent_v_encoder , index = range(17), columns = [\"gender\"])\n",
        "# print(independent_v)\n",
        "# print(dependent_v_encoder)\n"
      ]
    },
    {
      "cell_type": "markdown",
      "metadata": {
        "id": "W5fvBFIQfIDE"
      },
      "source": [
        "# Splitting the dataset for training\n",
        "We divide our data into x_train, x_test , y_train , y_test as test_size 0.33.\n"
      ]
    },
    {
      "cell_type": "code",
      "execution_count": 41,
      "metadata": {
        "id": "lGFg10o286io",
        "vscode": {
          "languageId": "python"
        }
      },
      "outputs": [],
      "source": [
        "from sklearn.model_selection import train_test_split\n",
        "x_train, x_test , y_train , y_test = train_test_split(independent_v,dependent_v_encoder,test_size=0.33, random_state=0)\n",
        "# print(x_train)\n",
        "# print(y_train)\n",
        "# print(x_test)\n",
        "# print(y_test)"
      ]
    },
    {
      "cell_type": "markdown",
      "metadata": {
        "id": "A3JRhdEnfk5M"
      },
      "source": [
        "# LinearRegression Model\n",
        "We create our model thanks to the linear regression model.\n",
        "*   predict= These values are the estimates of our model.\n",
        "*   y_test= These values are the actual values.\n",
        "\n",
        "\n"
      ]
    },
    {
      "cell_type": "code",
      "execution_count": 43,
      "metadata": {
        "colab": {
          "base_uri": "https://localhost:8080/"
        },
        "id": "20gO1In0e8JU",
        "outputId": "2c332af6-d081-4904-b356-fbf5e23c4b22",
        "vscode": {
          "languageId": "python"
        }
      },
      "outputs": [
        {
          "name": "stdout",
          "output_type": "stream",
          "text": [
            "[[ 0.13396344]\n",
            " [ 1.06018344]\n",
            " [ 0.81784645]\n",
            " [ 0.39380805]\n",
            " [ 0.05869255]\n",
            " [-0.28237243]]\n",
            "    gender\n",
            "1        0\n",
            "6        1\n",
            "8        1\n",
            "9        1\n",
            "13       0\n",
            "4        0\n"
          ]
        }
      ],
      "source": [
        "from sklearn.linear_model import LinearRegression\n",
        "lr = LinearRegression()\n",
        "lr.fit(x_train,y_train)\n",
        "predict =lr.predict(x_test)\n",
        "print(predict)\n",
        "print(y_test)"
      ]
    }
  ],
  "metadata": {
    "colab": {
      "provenance": []
    },
    "kernelspec": {
      "display_name": "Python 3",
      "name": "python3"
    }
  },
  "nbformat": 4,
  "nbformat_minor": 0
}
