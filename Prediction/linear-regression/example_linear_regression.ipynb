{
  "cells": [
    {
      "cell_type": "markdown",
      "metadata": {
        "id": "j-0YWhn09XXE"
      },
      "source": [
        "# Will They Play Tennis According to the Weather?\n"
      ]
    },
    {
      "cell_type": "markdown",
      "metadata": {
        "id": "R7gYIMzy9mV2"
      },
      "source": [
        "# Intro\n",
        "We add the libraries to be used.\n",
        "We are reading the data from csv file with the help of pandas.\n"
      ]
    },
    {
      "cell_type": "code",
      "execution_count": 32,
      "metadata": {
        "id": "71wV098OWX6I",
        "vscode": {
          "languageId": "python"
        }
      },
      "outputs": [],
      "source": [
        "import pandas as pd\n",
        "import numpy as np\n",
        "import matplotlib.pyplot as plt\n",
        "from sklearn import preprocessing\n",
        "from sklearn.impute import SimpleImputer\n",
        "data = pd.read_csv(\"tenis_data.csv\")\n",
        "#print(data)\n"
      ]
    },
    {
      "attachments": {},
      "cell_type": "markdown",
      "metadata": {
        "id": "L7jxntxB-4pm"
      },
      "source": [
        "# Label Encoding for Windy and Play Cloumns"
      ]
    },
    {
      "cell_type": "code",
      "execution_count": 38,
      "metadata": {
        "colab": {
          "base_uri": "https://localhost:8080/"
        },
        "id": "uaFFXRq2kHIS",
        "outputId": "8c1199af-9837-44db-966c-7fc6b8443557",
        "vscode": {
          "languageId": "python"
        }
      },
      "outputs": [
        {
          "name": "stdout",
          "output_type": "stream",
          "text": [
            "    windy  play\n",
            "0       0     0\n",
            "1       1     0\n",
            "2       0     1\n",
            "3       0     1\n",
            "4       0     1\n",
            "5       0     0\n",
            "6       1     1\n",
            "7       0     0\n",
            "8       0     1\n",
            "9       0     1\n",
            "10      1     1\n",
            "11      1     1\n",
            "12      0     1\n",
            "13      1     0\n"
          ]
        }
      ],
      "source": [
        "data_windy_play_cloumns = data.iloc[:,-2:].values\n",
        "data_windy_play = pd.DataFrame(data = data_windy_play_cloumns, index= range(14), columns = [\"windy\",\"play\"])\n",
        "#print(data_windy_play)\n",
        "data_windy_play =data_windy_play.apply(preprocessing.LabelEncoder().fit_transform)\n",
        "print(data_windy_play)"
      ]
    },
    {
      "cell_type": "markdown",
      "metadata": {
        "id": "1xLVLIcW_L32"
      },
      "source": [
        "#OneHot Encoding for Outlook Cloumn"
      ]
    },
    {
      "cell_type": "code",
      "execution_count": 34,
      "metadata": {
        "id": "VTeDlmMMfvTh",
        "vscode": {
          "languageId": "python"
        }
      },
      "outputs": [],
      "source": [
        "outlook_cloumns = data.iloc[:,:1].values\n",
        "#print(outlook_cloumns)\n",
        "oh_encoder = preprocessing.OneHotEncoder()\n",
        "outlook_cloumns = oh_encoder.fit_transform(data.iloc[:,:1]).toarray()\n",
        "#print(outlook_cloumns)"
      ]
    },
    {
      "cell_type": "code",
      "execution_count": 35,
      "metadata": {
        "colab": {
          "base_uri": "https://localhost:8080/"
        },
        "id": "sZJlle9tmLls",
        "outputId": "baf5c0ff-599f-4d30-9b5e-988d0688ba83",
        "vscode": {
          "languageId": "python"
        }
      },
      "outputs": [
        {
          "name": "stdout",
          "output_type": "stream",
          "text": [
            "    overcast  rainy  sunny\n",
            "0        0.0    0.0    1.0\n",
            "1        0.0    0.0    1.0\n",
            "2        1.0    0.0    0.0\n",
            "3        0.0    1.0    0.0\n",
            "4        0.0    1.0    0.0\n",
            "5        0.0    1.0    0.0\n",
            "6        1.0    0.0    0.0\n",
            "7        0.0    0.0    1.0\n",
            "8        0.0    0.0    1.0\n",
            "9        0.0    1.0    0.0\n",
            "10       0.0    0.0    1.0\n",
            "11       1.0    0.0    0.0\n",
            "12       1.0    0.0    0.0\n",
            "13       0.0    1.0    0.0\n"
          ]
        }
      ],
      "source": [
        "outlook_data = pd.DataFrame(data = outlook_cloumns, index= range(14), columns = [\"overcast\",\"rainy\", \"sunny\"])\n",
        "print(outlook_data)"
      ]
    },
    {
      "cell_type": "markdown",
      "metadata": {
        "id": "IDDHCsZT_foV"
      },
      "source": [
        "#New Data-set"
      ]
    },
    {
      "cell_type": "code",
      "execution_count": 36,
      "metadata": {
        "colab": {
          "base_uri": "https://localhost:8080/"
        },
        "id": "mVi2j_4aqV7f",
        "outputId": "795c49a4-7d7b-474b-f064-0d09784fad18",
        "vscode": {
          "languageId": "python"
        }
      },
      "outputs": [
        {
          "name": "stdout",
          "output_type": "stream",
          "text": [
            "    overcast  rainy  sunny  temperature  humidity  windy  play\n",
            "0        0.0    0.0    1.0           85        85      0     0\n",
            "1        0.0    0.0    1.0           80        90      1     0\n",
            "2        1.0    0.0    0.0           83        86      0     1\n",
            "3        0.0    1.0    0.0           70        96      0     1\n",
            "4        0.0    1.0    0.0           68        80      0     1\n",
            "5        0.0    1.0    0.0           65        70      0     0\n",
            "6        1.0    0.0    0.0           64        65      1     1\n",
            "7        0.0    0.0    1.0           72        95      0     0\n",
            "8        0.0    0.0    1.0           69        70      0     1\n",
            "9        0.0    1.0    0.0           75        80      0     1\n",
            "10       0.0    0.0    1.0           75        70      1     1\n",
            "11       1.0    0.0    0.0           72        90      1     1\n",
            "12       1.0    0.0    0.0           81        75      0     1\n",
            "13       0.0    1.0    0.0           71        91      1     0\n"
          ]
        }
      ],
      "source": [
        "no_outlook_and_windy_play= data.iloc[:,1:3]\n",
        "ready_data = pd.concat([outlook_data,no_outlook_and_windy_play,data_windy_play], axis= 1)\n",
        "print(ready_data)"
      ]
    },
    {
      "cell_type": "markdown",
      "metadata": {
        "id": "WpXUdsJYAPA9"
      },
      "source": [
        "# Splitting the dataset for training\n",
        "We divide our data into x_train, x_test , y_train , y_test as test_size 0.25.\n",
        "# Created a Linear Regression Model"
      ]
    },
    {
      "cell_type": "code",
      "execution_count": 45,
      "metadata": {
        "colab": {
          "base_uri": "https://localhost:8080/"
        },
        "id": "IrJ5mu9Ppvr-",
        "outputId": "9cb96a94-75d5-40ac-c771-32d81071c50a",
        "vscode": {
          "languageId": "python"
        }
      },
      "outputs": [
        {
          "name": "stdout",
          "output_type": "stream",
          "text": [
            "    play\n",
            "8      1\n",
            "6      1\n",
            "4      1\n",
            "11     1\n",
            "[[0.28594502]\n",
            " [0.88718485]\n",
            " [0.51631996]\n",
            " [0.74197113]]\n"
          ]
        }
      ],
      "source": [
        "from sklearn.model_selection import train_test_split\n",
        "x_train, x_test , y_train , y_test = train_test_split(ready_data.iloc[:,:-1],ready_data.iloc[:,-1:],test_size=0.25, random_state=0)\n",
        "# print(x_train)\n",
        "# print(y_train)\n",
        "# print(x_test)\n",
        "print(y_test)\n",
        "from sklearn.linear_model import LinearRegression\n",
        "lr = LinearRegression()\n",
        "lr.fit(x_train,y_train)\n",
        "predict =lr.predict(x_test)\n",
        "print(predict) "
      ]
    },
    {
      "cell_type": "markdown",
      "metadata": {
        "id": "RYEuSbIkAflU"
      },
      "source": [
        "# OLS-REGRESSION RESULTS"
      ]
    },
    {
      "cell_type": "code",
      "execution_count": 46,
      "metadata": {
        "colab": {
          "base_uri": "https://localhost:8080/"
        },
        "id": "BP4oUCVsshXu",
        "outputId": "1d611846-4977-44b2-ea29-11bf8c12d07f",
        "vscode": {
          "languageId": "python"
        }
      },
      "outputs": [
        {
          "name": "stdout",
          "output_type": "stream",
          "text": [
            "                            OLS Regression Results                            \n",
            "==============================================================================\n",
            "Dep. Variable:                   play   R-squared:                       0.350\n",
            "Model:                            OLS   Adj. R-squared:                 -0.057\n",
            "Method:                 Least Squares   F-statistic:                    0.8599\n",
            "Date:                Sun, 09 Apr 2023   Prob (F-statistic):              0.546\n",
            "Time:                        07:58:03   Log-Likelihood:                -6.5540\n",
            "No. Observations:                  14   AIC:                             25.11\n",
            "Df Residuals:                       8   BIC:                             28.94\n",
            "Df Model:                           5                                         \n",
            "Covariance Type:            nonrobust                                         \n",
            "==============================================================================\n",
            "                 coef    std err          t      P>|t|      [0.025      0.975]\n",
            "------------------------------------------------------------------------------\n",
            "x1             2.4453      1.974      1.239      0.251      -2.107       6.998\n",
            "x2             2.0274      1.842      1.101      0.303      -2.221       6.276\n",
            "x3             1.8737      1.996      0.939      0.375      -2.729       6.476\n",
            "x4            -0.0053      0.028     -0.189      0.855      -0.070       0.059\n",
            "x5            -0.0123      0.016     -0.793      0.451      -0.048       0.024\n",
            "x6            -0.1488      0.310     -0.479      0.644      -0.865       0.567\n",
            "==============================================================================\n",
            "Omnibus:                        0.536   Durbin-Watson:                   1.386\n",
            "Prob(Omnibus):                  0.765   Jarque-Bera (JB):                0.584\n",
            "Skew:                          -0.343   Prob(JB):                        0.747\n",
            "Kurtosis:                       2.271   Cond. No.                     2.70e+03\n",
            "==============================================================================\n",
            "\n",
            "Notes:\n",
            "[1] Standard Errors assume that the covariance matrix of the errors is correctly specified.\n",
            "[2] The condition number is large, 2.7e+03. This might indicate that there are\n",
            "strong multicollinearity or other numerical problems.\n"
          ]
        },
        {
          "name": "stderr",
          "output_type": "stream",
          "text": [
            "/usr/local/lib/python3.9/dist-packages/scipy/stats/_stats_py.py:1736: UserWarning: kurtosistest only valid for n>=20 ... continuing anyway, n=14\n",
            "  warnings.warn(\"kurtosistest only valid for n>=20 ... continuing \"\n"
          ]
        }
      ],
      "source": [
        "import statsmodels.api as sm \n",
        "X_l = ready_data.iloc[:,[0,1,2,3,4,5]].values\n",
        "r_ols = sm.OLS(endog = ready_data.iloc[:,-1:], exog =X_l)\n",
        "r = r_ols.fit()\n",
        "print(r.summary())\n",
        "\n"
      ]
    }
  ],
  "metadata": {
    "colab": {
      "provenance": []
    },
    "kernelspec": {
      "display_name": "Python 3",
      "name": "python3"
    }
  },
  "nbformat": 4,
  "nbformat_minor": 0
}
