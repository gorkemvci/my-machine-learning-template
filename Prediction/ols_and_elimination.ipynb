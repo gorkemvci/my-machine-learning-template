{
  "cells": [
    {
      "cell_type": "markdown",
      "source": [
        "# OLS AND ELIMINATION\n"
      ],
      "metadata": {
        "id": "khkmN_182zx0"
      }
    },
    {
      "cell_type": "markdown",
      "source": [
        "# Data Preparation"
      ],
      "metadata": {
        "id": "jSnLs3Vnz2Gg"
      }
    },
    {
      "cell_type": "code",
      "source": [
        "import numpy as np\n",
        "import matplotlib.pyplot as plt\n",
        "import pandas as pd\n",
        "from sklearn import preprocessing\n",
        "data= pd.read_csv(\"data.csv\")\n",
        "#print(data)\n",
        "lbl_cdr = preprocessing.LabelEncoder()\n",
        "independent_v =data.iloc[:,:-1] \n",
        "dependent_v =data.iloc[:,-1:]\n",
        "dependent_v_encoder = lbl_cdr.fit_transform(dependent_v)\n",
        "dependent_v_encoder = pd.DataFrame(data= dependent_v_encoder , index = range(17), columns = [\"gender\"])\n",
        "# print(independent_v)\n",
        "# print(dependent_v_encoder)\n"
      ],
      "metadata": {
        "id": "hV8iuHlapScB"
      },
      "execution_count": null,
      "outputs": []
    },
    {
      "cell_type": "markdown",
      "source": [
        "# Splitting the dataset for training\n",
        "We divide our data into x_train, x_test , y_train , y_test as test_size 0.33.\n"
      ],
      "metadata": {
        "id": "W5fvBFIQfIDE"
      }
    },
    {
      "cell_type": "code",
      "source": [
        "from sklearn.model_selection import train_test_split\n",
        "x_train, x_test , y_train , y_test = train_test_split(independent_v,dependent_v_encoder,test_size=0.33, random_state=0)\n",
        "# print(x_train)\n",
        "# print(y_train)\n",
        "# print(x_test)\n",
        "# print(y_test)"
      ],
      "metadata": {
        "id": "lGFg10o286io"
      },
      "execution_count": 28,
      "outputs": []
    },
    {
      "cell_type": "markdown",
      "source": [
        "# LinearRegression Model\n",
        "We create our model thanks to the linear regression model.\n",
        "*   predict= These values are the estimates of our model.\n",
        "*   y_test= These values are the actual values.\n",
        "\n",
        "\n"
      ],
      "metadata": {
        "id": "A3JRhdEnfk5M"
      }
    },
    {
      "cell_type": "code",
      "source": [
        "from sklearn.linear_model import LinearRegression\n",
        "lr = LinearRegression()\n",
        "lr.fit(x_train,y_train)\n",
        "predict =lr.predict(x_test)\n",
        "print(predict)\n",
        "print(y_test)"
      ],
      "metadata": {
        "colab": {
          "base_uri": "https://localhost:8080/"
        },
        "id": "20gO1In0e8JU",
        "outputId": "59302148-b90b-44e2-acaf-4384698bdc96"
      },
      "execution_count": 29,
      "outputs": [
        {
          "output_type": "stream",
          "name": "stdout",
          "text": [
            "[[ 0.13396344]\n",
            " [ 1.06018344]\n",
            " [ 0.81784645]\n",
            " [ 0.39380805]\n",
            " [ 0.05869255]\n",
            " [-0.28237243]]\n",
            "    gender\n",
            "1        0\n",
            "6        1\n",
            "8        1\n",
            "9        1\n",
            "13       0\n",
            "4        0\n"
          ]
        }
      ]
    },
    {
      "cell_type": "markdown",
      "source": [
        "# OLS\n",
        "OLS (Ordinary Least Squares) test is an analysis method to determine how the dependent variable is related to the independent variables.\n",
        "# p-Value\n",
        "p-Value is represents the probability of obtaining the observed data or more extreme results, assuming that the null hypothesis is true.\n",
        "# Backward Eliminatoin\n",
        "Backward elimination is a variable selection method used in multiple linear regression analysis. It starts with a model that includes all the independent variables and removes variables that are deemed insignificant. This process continues until a final model is obtained with only significant variables."
      ],
      "metadata": {
        "id": "lt_sxM3gIUwN"
      }
    },
    {
      "cell_type": "code",
      "source": [
        "import statsmodels.api as sm \n",
        "x_l = independent_v.iloc[:,[0,1,2,3,4,5]].values\n",
        "x_l =np.array(x_l, dtype = float)\n",
        "#print(x_l)\n",
        "model = sm.OLS(dependent_v_encoder, x_l).fit()\n",
        "print(model.summary())\n"
      ],
      "metadata": {
        "colab": {
          "base_uri": "https://localhost:8080/"
        },
        "id": "NeIK85Pb2qDD",
        "outputId": "e12cc4b4-df2c-463c-eff6-eb8692a0e1f1"
      },
      "execution_count": 30,
      "outputs": [
        {
          "output_type": "stream",
          "name": "stdout",
          "text": [
            "                            OLS Regression Results                            \n",
            "==============================================================================\n",
            "Dep. Variable:                 gender   R-squared:                       0.852\n",
            "Model:                            OLS   Adj. R-squared:                  0.784\n",
            "Method:                 Least Squares   F-statistic:                     12.62\n",
            "Date:                Sun, 09 Apr 2023   Prob (F-statistic):           0.000299\n",
            "Time:                        07:24:16   Log-Likelihood:                 3.9034\n",
            "No. Observations:                  17   AIC:                             4.193\n",
            "Df Residuals:                      11   BIC:                             9.193\n",
            "Df Model:                           5                                         \n",
            "Covariance Type:            nonrobust                                         \n",
            "==============================================================================\n",
            "                 coef    std err          t      P>|t|      [0.025      0.975]\n",
            "------------------------------------------------------------------------------\n",
            "x1             4.4382      1.821      2.438      0.033       0.431       8.445\n",
            "x2             4.4728      1.814      2.466      0.031       0.481       8.465\n",
            "x3             4.6741      1.774      2.635      0.023       0.770       8.578\n",
            "x4            -0.0146      0.012     -1.248      0.238      -0.040       0.011\n",
            "x5            -0.0171      0.007     -2.598      0.025      -0.032      -0.003\n",
            "x6            -0.0079      0.008     -0.936      0.369      -0.027       0.011\n",
            "==============================================================================\n",
            "Omnibus:                        1.190   Durbin-Watson:                   2.030\n",
            "Prob(Omnibus):                  0.551   Jarque-Bera (JB):                0.974\n",
            "Skew:                           0.368   Prob(JB):                        0.615\n",
            "Kurtosis:                       2.088   Cond. No.                     1.02e+04\n",
            "==============================================================================\n",
            "\n",
            "Notes:\n",
            "[1] Standard Errors assume that the covariance matrix of the errors is correctly specified.\n",
            "[2] The condition number is large, 1.02e+04. This might indicate that there are\n",
            "strong multicollinearity or other numerical problems.\n"
          ]
        },
        {
          "output_type": "stream",
          "name": "stderr",
          "text": [
            "/usr/local/lib/python3.9/dist-packages/scipy/stats/_stats_py.py:1736: UserWarning: kurtosistest only valid for n>=20 ... continuing anyway, n=17\n",
            "  warnings.warn(\"kurtosistest only valid for n>=20 ... continuing \"\n"
          ]
        }
      ]
    },
    {
      "cell_type": "code",
      "source": [
        "x_l = independent_v.iloc[:,[0,1,2,4]].values\n",
        "x_l =np.array(x_l, dtype = float)\n",
        "model = sm.OLS(dependent_v_encoder, x_l).fit()\n",
        "print(model.summary())"
      ],
      "metadata": {
        "colab": {
          "base_uri": "https://localhost:8080/"
        },
        "id": "YZU9RyxL45VC",
        "outputId": "51f8632f-5dae-438a-ea15-217dcfeda4cf"
      },
      "execution_count": 31,
      "outputs": [
        {
          "output_type": "stream",
          "name": "stdout",
          "text": [
            "                            OLS Regression Results                            \n",
            "==============================================================================\n",
            "Dep. Variable:                 gender   R-squared:                       0.828\n",
            "Model:                            OLS   Adj. R-squared:                  0.788\n",
            "Method:                 Least Squares   F-statistic:                     20.85\n",
            "Date:                Sun, 09 Apr 2023   Prob (F-statistic):           3.02e-05\n",
            "Time:                        07:24:20   Log-Likelihood:                 2.6481\n",
            "No. Observations:                  17   AIC:                             2.704\n",
            "Df Residuals:                      13   BIC:                             6.037\n",
            "Df Model:                           3                                         \n",
            "Covariance Type:            nonrobust                                         \n",
            "==============================================================================\n",
            "                 coef    std err          t      P>|t|      [0.025      0.975]\n",
            "------------------------------------------------------------------------------\n",
            "x1             2.0909      0.261      7.999      0.000       1.526       2.656\n",
            "x2             2.1498      0.305      7.057      0.000       1.492       2.808\n",
            "x3             2.3730      0.247      9.601      0.000       1.839       2.907\n",
            "x4            -0.0237      0.004     -6.768      0.000      -0.031      -0.016\n",
            "==============================================================================\n",
            "Omnibus:                        1.076   Durbin-Watson:                   1.872\n",
            "Prob(Omnibus):                  0.584   Jarque-Bera (JB):                0.192\n",
            "Skew:                           0.229   Prob(JB):                        0.909\n",
            "Kurtosis:                       3.244   Cond. No.                         568.\n",
            "==============================================================================\n",
            "\n",
            "Notes:\n",
            "[1] Standard Errors assume that the covariance matrix of the errors is correctly specified.\n"
          ]
        },
        {
          "output_type": "stream",
          "name": "stderr",
          "text": [
            "/usr/local/lib/python3.9/dist-packages/scipy/stats/_stats_py.py:1736: UserWarning: kurtosistest only valid for n>=20 ... continuing anyway, n=17\n",
            "  warnings.warn(\"kurtosistest only valid for n>=20 ... continuing \"\n"
          ]
        }
      ]
    }
  ],
  "metadata": {
    "colab": {
      "provenance": []
    },
    "kernelspec": {
      "display_name": "Python 3",
      "name": "python3"
    }
  },
  "nbformat": 4,
  "nbformat_minor": 0
}