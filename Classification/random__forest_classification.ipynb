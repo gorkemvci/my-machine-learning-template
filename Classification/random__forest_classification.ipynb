{
  "nbformat": 4,
  "nbformat_minor": 0,
  "metadata": {
    "colab": {
      "provenance": []
    },
    "kernelspec": {
      "name": "python3",
      "display_name": "Python 3"
    },
    "language_info": {
      "name": "python"
    }
  },
  "cells": [
    {
      "cell_type": "markdown",
      "source": [
        "# Random Forest Classification\n",
        "Random forest classification is a machine learning algorithm that builds a large number of decision trees and combines their predictions to improve accuracy and reduce overfitting.\n",
        "The algorithm randomly selects a subset of features and a subset of data points for each tree, which ensures diversity and reduces correlation among the trees."
      ],
      "metadata": {
        "id": "fzN33Cw3B6v5"
      }
    },
    {
      "cell_type": "markdown",
      "source": [
        "# Intro\n",
        "We add the libraries to be used.\n",
        "We are reading the data from csv file with the help of pandas.\n"
      ],
      "metadata": {
        "id": "H4SYCGf9Chvd"
      }
    },
    {
      "cell_type": "code",
      "execution_count": 2,
      "metadata": {
        "id": "uhoxAx4qByOS"
      },
      "outputs": [],
      "source": [
        "import pandas as pd\n",
        "import matplotlib.pyplot as plt\n",
        "import numpy as np\n",
        "data = pd.read_csv(\"data.csv\")\n",
        "x = data.iloc[:,1:4]\n",
        "y = data.iloc[:,-1:]"
      ]
    },
    {
      "cell_type": "markdown",
      "source": [
        "# Splitting the dataset for training\n",
        "We divide our data into x_train, x_test , y_train , y_test as test_size 0.33."
      ],
      "metadata": {
        "id": "cw7hAO1rCtWa"
      }
    },
    {
      "cell_type": "code",
      "source": [
        "from sklearn.model_selection import train_test_split\n",
        "x_train , x_test , y_train , y_test = train_test_split(x,y,test_size=0.33, random_state = 0)"
      ],
      "metadata": {
        "id": "AU5sHQwcE3PB"
      },
      "execution_count": 3,
      "outputs": []
    },
    {
      "cell_type": "code",
      "source": [
        "from sklearn.ensemble import RandomForestClassifier\n",
        "dtc = RandomForestClassifier(n_estimators=10 ,criterion =\"entropy\")\n",
        "dtc.fit(x_train,y_train)\n",
        "pred=dtc.predict(x_test)\n",
        "print(pred)\n",
        "print(y_test)"
      ],
      "metadata": {
        "colab": {
          "base_uri": "https://localhost:8080/"
        },
        "id": "SahR7N_O3iYw",
        "outputId": "d9190240-125f-4404-f105-b20b26abc795"
      },
      "execution_count": 4,
      "outputs": [
        {
          "output_type": "stream",
          "name": "stdout",
          "text": [
            "['man' 'woman' 'woman' 'woman' 'man' 'woman']\n",
            "    gender\n",
            "1      man\n",
            "6    woman\n",
            "8    woman\n",
            "9    woman\n",
            "13     man\n",
            "4      man\n"
          ]
        },
        {
          "output_type": "stream",
          "name": "stderr",
          "text": [
            "<ipython-input-4-f19e7e1f2e36>:3: DataConversionWarning: A column-vector y was passed when a 1d array was expected. Please change the shape of y to (n_samples,), for example using ravel().\n",
            "  dtc.fit(x_train,y_train)\n"
          ]
        }
      ]
    },
    {
      "cell_type": "markdown",
      "source": [
        "# Confusion matrix\n",
        "Confusion matrix is a matrix used to evaluate the performance of a classification model by comparing the actual and predicted classes, helping to calculate the accuracy and other performance metrics of the model."
      ],
      "metadata": {
        "id": "Fw4-RG6KLSsW"
      }
    },
    {
      "cell_type": "code",
      "source": [
        "from sklearn.metrics import confusion_matrix\n",
        "con_mx = confusion_matrix(pred,y_test)\n",
        "print(con_mx)"
      ],
      "metadata": {
        "colab": {
          "base_uri": "https://localhost:8080/"
        },
        "id": "sJ2C_77K3kYx",
        "outputId": "9bc760b7-a035-49ff-a9ed-2b55e53a9852"
      },
      "execution_count": 5,
      "outputs": [
        {
          "output_type": "stream",
          "name": "stdout",
          "text": [
            "[[2 0]\n",
            " [1 3]]\n"
          ]
        }
      ]
    }
  ]
}