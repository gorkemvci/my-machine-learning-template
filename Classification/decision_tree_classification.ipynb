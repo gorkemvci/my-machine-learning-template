{
  "nbformat": 4,
  "nbformat_minor": 0,
  "metadata": {
    "colab": {
      "provenance": []
    },
    "kernelspec": {
      "name": "python3",
      "display_name": "Python 3"
    },
    "language_info": {
      "name": "python"
    }
  },
  "cells": [
    {
      "cell_type": "markdown",
      "source": [
        "# Decision Tree Classification\n",
        "It works by recursively splitting the data into smaller subsets based on the values of the input features, until each subset only contains data of the same class.\n"
      ],
      "metadata": {
        "id": "fzN33Cw3B6v5"
      }
    },
    {
      "cell_type": "markdown",
      "source": [
        "# Intro\n",
        "We add the libraries to be used.\n",
        "We are reading the data from csv file with the help of pandas.\n"
      ],
      "metadata": {
        "id": "H4SYCGf9Chvd"
      }
    },
    {
      "cell_type": "code",
      "execution_count": 3,
      "metadata": {
        "id": "uhoxAx4qByOS"
      },
      "outputs": [],
      "source": [
        "import pandas as pd\n",
        "import matplotlib.pyplot as plt\n",
        "import numpy as np\n",
        "data = pd.read_csv(\"data.csv\")\n",
        "x = data.iloc[:,1:4]\n",
        "y = data.iloc[:,-1:]"
      ]
    },
    {
      "cell_type": "markdown",
      "source": [
        "# Splitting the dataset for training\n",
        "We divide our data into x_train, x_test , y_train , y_test as test_size 0.33."
      ],
      "metadata": {
        "id": "cw7hAO1rCtWa"
      }
    },
    {
      "cell_type": "code",
      "source": [
        "from sklearn.model_selection import train_test_split\n",
        "x_train , x_test , y_train , y_test = train_test_split(x,y,test_size=0.33, random_state = 0)"
      ],
      "metadata": {
        "id": "AU5sHQwcE3PB"
      },
      "execution_count": 4,
      "outputs": []
    },
    {
      "cell_type": "markdown",
      "source": [
        "# Decision Tree Classification"
      ],
      "metadata": {
        "id": "qWNGePd2KQfI"
      }
    },
    {
      "cell_type": "code",
      "source": [
        "from sklearn.tree import DecisionTreeClassifier\n",
        "dtc = DecisionTreeClassifier(criterion =\"entropy\")\n",
        "dtc.fit(x_train,y_train)\n",
        "pred=dtc.predict(x_test)\n",
        "print(pred)\n",
        "print(y_test)"
      ],
      "metadata": {
        "colab": {
          "base_uri": "https://localhost:8080/"
        },
        "id": "I5ax0Ce9wV8f",
        "outputId": "6e3302a7-bbdd-40d2-d088-3188ebc8a599"
      },
      "execution_count": 8,
      "outputs": [
        {
          "output_type": "stream",
          "name": "stdout",
          "text": [
            "['man' 'woman' 'woman' 'woman' 'man' 'man']\n",
            "    gender\n",
            "1      man\n",
            "6    woman\n",
            "8    woman\n",
            "9    woman\n",
            "13     man\n",
            "4      man\n"
          ]
        }
      ]
    },
    {
      "cell_type": "markdown",
      "source": [
        "# Confusion matrix\n",
        "Confusion matrix is a matrix used to evaluate the performance of a classification model by comparing the actual and predicted classes, helping to calculate the accuracy and other performance metrics of the model."
      ],
      "metadata": {
        "id": "sfzv_xTMKXPE"
      }
    },
    {
      "cell_type": "code",
      "source": [
        "from sklearn.metrics import confusion_matrix\n",
        "con_mx = confusion_matrix(pred,y_test)\n",
        "print(con_mx)"
      ],
      "metadata": {
        "colab": {
          "base_uri": "https://localhost:8080/"
        },
        "id": "E7ixSaXGxc05",
        "outputId": "92626ae0-fdf2-4fd7-b33d-7e4167677004"
      },
      "execution_count": 9,
      "outputs": [
        {
          "output_type": "stream",
          "name": "stdout",
          "text": [
            "[[3 0]\n",
            " [0 3]]\n"
          ]
        }
      ]
    }
  ]
}