{
  "nbformat": 4,
  "nbformat_minor": 0,
  "metadata": {
    "colab": {
      "provenance": []
    },
    "kernelspec": {
      "name": "python3",
      "display_name": "Python 3"
    },
    "language_info": {
      "name": "python"
    }
  },
  "cells": [
    {
      "cell_type": "markdown",
      "source": [
        "# Naive Bayes Classification \n",
        "It is a machine learning algorithm that uses Bayes' theorem to classify data. It assumes that the features of an input are independent of each other, which makes it computationally efficient.\n"
      ],
      "metadata": {
        "id": "fzN33Cw3B6v5"
      }
    },
    {
      "cell_type": "markdown",
      "source": [
        "# Intro\n",
        "We add the libraries to be used.\n",
        "We are reading the data from csv file with the help of pandas.\n"
      ],
      "metadata": {
        "id": "H4SYCGf9Chvd"
      }
    },
    {
      "cell_type": "code",
      "execution_count": 1,
      "metadata": {
        "id": "uhoxAx4qByOS"
      },
      "outputs": [],
      "source": [
        "import pandas as pd\n",
        "import matplotlib.pyplot as plt\n",
        "import numpy as np\n",
        "data = pd.read_csv(\"data.csv\")\n",
        "x = data.iloc[:,1:4]\n",
        "y = data.iloc[:,-1:]"
      ]
    },
    {
      "cell_type": "markdown",
      "source": [
        "# Splitting the dataset for training\n",
        "We divide our data into x_train, x_test , y_train , y_test as test_size 0.33."
      ],
      "metadata": {
        "id": "cw7hAO1rCtWa"
      }
    },
    {
      "cell_type": "code",
      "source": [
        "from sklearn.model_selection import train_test_split\n",
        "x_train , x_test , y_train , y_test = train_test_split(x,y,test_size=0.33, random_state = 0)"
      ],
      "metadata": {
        "id": "AU5sHQwcE3PB"
      },
      "execution_count": 2,
      "outputs": []
    },
    {
      "cell_type": "markdown",
      "source": [
        "# Naive Bayes Classification"
      ],
      "metadata": {
        "id": "wDOaLY1PItdx"
      }
    },
    {
      "cell_type": "code",
      "source": [
        "from sklearn.naive_bayes import GaussianNB\n",
        "gnb = GaussianNB()\n",
        "gnb.fit(x_train,y_train)\n",
        "pred = gnb.predict(x_test)\n",
        "print(pred)\n",
        "print(y_test)"
      ],
      "metadata": {
        "colab": {
          "base_uri": "https://localhost:8080/"
        },
        "id": "ibJcDXEaEOTp",
        "outputId": "5002ce91-4e38-49fa-960a-1af0b4e7098f"
      },
      "execution_count": 5,
      "outputs": [
        {
          "output_type": "stream",
          "name": "stdout",
          "text": [
            "['man' 'woman' 'woman' 'woman' 'man' 'woman']\n",
            "    gender\n",
            "1      man\n",
            "6    woman\n",
            "8    woman\n",
            "9    woman\n",
            "13     man\n",
            "4      man\n"
          ]
        },
        {
          "output_type": "stream",
          "name": "stderr",
          "text": [
            "/usr/local/lib/python3.9/dist-packages/sklearn/utils/validation.py:1143: DataConversionWarning: A column-vector y was passed when a 1d array was expected. Please change the shape of y to (n_samples, ), for example using ravel().\n",
            "  y = column_or_1d(y, warn=True)\n"
          ]
        }
      ]
    },
    {
      "cell_type": "markdown",
      "source": [
        "# Confusion matrix\n",
        "Confusion matrix is a matrix used to evaluate the performance of a classification model by comparing the actual and predicted classes, helping to calculate the accuracy and other performance metrics of the model."
      ],
      "metadata": {
        "id": "_mSqzPKeJIy3"
      }
    },
    {
      "cell_type": "code",
      "source": [
        "from sklearn.metrics import confusion_matrix\n",
        "con_mx = confusion_matrix(pred,y_test)\n",
        "print(con_mx)"
      ],
      "metadata": {
        "colab": {
          "base_uri": "https://localhost:8080/"
        },
        "id": "AmxtJOOfE5wS",
        "outputId": "4e744970-e722-47b2-e467-156af713b2d3"
      },
      "execution_count": 4,
      "outputs": [
        {
          "output_type": "stream",
          "name": "stdout",
          "text": [
            "[[2 0]\n",
            " [1 3]]\n"
          ]
        }
      ]
    }
  ]
}