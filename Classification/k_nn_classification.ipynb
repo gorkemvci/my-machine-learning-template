{
  "nbformat": 4,
  "nbformat_minor": 0,
  "metadata": {
    "colab": {
      "provenance": []
    },
    "kernelspec": {
      "name": "python3",
      "display_name": "Python 3"
    },
    "language_info": {
      "name": "python"
    }
  },
  "cells": [
    {
      "cell_type": "markdown",
      "source": [
        "# K-NN Classification\n",
        "This algorithm performs classification of new samples using nearest neighbors around samples in a predefined dataset."
      ],
      "metadata": {
        "id": "5dVSpi-C4dVn"
      }
    },
    {
      "cell_type": "markdown",
      "source": [
        "# Intro\n",
        "We add the libraries to be used.\n",
        "We are reading the data from csv file with the help of pandas.\n",
        "\n",
        "\n"
      ],
      "metadata": {
        "id": "2PO4Jiqkzc9x"
      }
    },
    {
      "cell_type": "code",
      "execution_count": null,
      "metadata": {
        "id": "_hhghYzK4ZsH"
      },
      "outputs": [],
      "source": [
        "import pandas as pd\n",
        "import matplotlib.pyplot as plt\n",
        "import numpy as np\n",
        "data = pd.read_csv(\"data.csv\")\n",
        "x = data.iloc[:,1:4]\n",
        "y = data.iloc[:,-1:]\n"
      ]
    },
    {
      "cell_type": "markdown",
      "source": [
        "# Standardization\n",
        "Here we apply standardization to our data with the help of StandardScaler(). This will make the calculations of logistic algorithm easier."
      ],
      "metadata": {
        "id": "zyJPc_ZlzIJC"
      }
    },
    {
      "cell_type": "code",
      "source": [
        "from sklearn.preprocessing import StandardScaler\n",
        "sc = StandardScaler()\n",
        "x_all = sc.fit_transform(x)\n",
        "#print(x_all)"
      ],
      "metadata": {
        "id": "SbQL5xxFJobH"
      },
      "execution_count": 6,
      "outputs": []
    },
    {
      "cell_type": "markdown",
      "source": [
        "# Splitting the dataset for training\n",
        "We divide our data into x_train, x_test , y_train , y_test as test_size 0.33."
      ],
      "metadata": {
        "id": "dYPirhCTbBHJ"
      }
    },
    {
      "cell_type": "code",
      "source": [
        "from sklearn.model_selection import train_test_split\n",
        "x_train , x_test , y_train , y_test = train_test_split(x,y,test_size=0.33, random_state = 0)\n"
      ],
      "metadata": {
        "id": "v78WX9UzKYCv"
      },
      "execution_count": 7,
      "outputs": []
    },
    {
      "cell_type": "markdown",
      "source": [
        "# K-NN Classification"
      ],
      "metadata": {
        "id": "WTNf62j4zuAx"
      }
    },
    {
      "cell_type": "code",
      "source": [
        "from sklearn.neighbors import KNeighborsClassifier\n",
        "knn = KNeighborsClassifier(n_neighbors=1, metric=\"minkowski\")\n",
        "knn.fit(x_train,y_train)\n",
        "pred= knn.predict(x_test)\n",
        "print(pred)\n",
        "print(y_test)"
      ],
      "metadata": {
        "colab": {
          "base_uri": "https://localhost:8080/"
        },
        "id": "rCaFSwumbsMW",
        "outputId": "9dece580-ff38-4126-b8ec-6f9634466b9f"
      },
      "execution_count": 11,
      "outputs": [
        {
          "output_type": "stream",
          "name": "stdout",
          "text": [
            "['man' 'woman' 'woman' 'woman' 'man' 'man']\n",
            "    gender\n",
            "1      man\n",
            "6    woman\n",
            "8    woman\n",
            "9    woman\n",
            "13     man\n",
            "4      man\n"
          ]
        },
        {
          "output_type": "stream",
          "name": "stderr",
          "text": [
            "/usr/local/lib/python3.9/dist-packages/sklearn/neighbors/_classification.py:215: DataConversionWarning: A column-vector y was passed when a 1d array was expected. Please change the shape of y to (n_samples,), for example using ravel().\n",
            "  return self._fit(X, y)\n"
          ]
        }
      ]
    },
    {
      "cell_type": "markdown",
      "source": [
        "# Confusion matrix\n",
        "Confusion matrix is a matrix used to evaluate the performance of a classification model by comparing the actual and predicted classes, helping to calculate the accuracy and other performance metrics of the model."
      ],
      "metadata": {
        "id": "MXI2rVdA0Zpo"
      }
    },
    {
      "cell_type": "code",
      "source": [
        "from sklearn.metrics import confusion_matrix\n",
        "con_mx = confusion_matrix(pred,y_test)\n",
        "print(con_mx)"
      ],
      "metadata": {
        "colab": {
          "base_uri": "https://localhost:8080/"
        },
        "id": "VozDW0WT0Wxh",
        "outputId": "0b058631-9e62-49b0-c219-630e8e58e532"
      },
      "execution_count": 12,
      "outputs": [
        {
          "output_type": "stream",
          "name": "stdout",
          "text": [
            "[[3 0]\n",
            " [0 3]]\n"
          ]
        }
      ]
    }
  ]
}